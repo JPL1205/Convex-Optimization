{
 "cells": [
  {
   "cell_type": "markdown",
   "metadata": {},
   "source": [
    "# Overview:  HW3 - Question 4\n",
    "\n",
    "In this coding question, you'll implement a classifier with logistic regression\n",
    "$$ F(w) = \\frac{1}{N} \\sum_{i=1}^N \\log( 1 + e^{-\\langle w, x_i \\rangle y_i} ). $$\n",
    "\n",
    "For this problem, I would suggest using functions to prepare the dataset, run gradient descent, and return classification error.  By doing this, you only have to write the code one time and just use the functions to return results for part (4c)."
   ]
  },
  {
   "cell_type": "markdown",
   "metadata": {},
   "source": [
    "# Loading MNIST Data\n",
    "\n",
    "In this section, you will learn to load MNIST data.  If you do not have tensorflow available on your jupyter notebook, uncomment the next cell, run it, restart the kernel, and comment the next cell once more."
   ]
  },
  {
   "cell_type": "code",
   "execution_count": 2,
   "metadata": {},
   "outputs": [],
   "source": [
    "import pandas as pd\n",
    "import numpy as np\n",
    "from matplotlib import pyplot as plt\n",
    "from sklearn.datasets import fetch_openml"
   ]
  },
  {
   "cell_type": "code",
   "execution_count": 3,
   "metadata": {},
   "outputs": [],
   "source": [
    "# test = pd.read_csv('mnist_test.csv', names=[f\"x{i}\" for i in range(784)] + [\"y\"])\n",
    "# train = pd.read_csv('mnist_train.csv', names=[f\"x{i}\" for i in range(784)] + [\"y\"])\n",
    "test = pd.read_csv('mnist_test.csv',header=None)\n",
    "train = pd.read_csv('mnist_train.csv', header=None)"
   ]
  },
  {
   "cell_type": "code",
   "execution_count": 4,
   "metadata": {},
   "outputs": [
    {
     "name": "stdout",
     "output_type": "stream",
     "text": [
      "(10000, 785)\n"
     ]
    },
    {
     "data": {
      "text/html": [
       "<div>\n",
       "<style scoped>\n",
       "    .dataframe tbody tr th:only-of-type {\n",
       "        vertical-align: middle;\n",
       "    }\n",
       "\n",
       "    .dataframe tbody tr th {\n",
       "        vertical-align: top;\n",
       "    }\n",
       "\n",
       "    .dataframe thead th {\n",
       "        text-align: right;\n",
       "    }\n",
       "</style>\n",
       "<table border=\"1\" class=\"dataframe\">\n",
       "  <thead>\n",
       "    <tr style=\"text-align: right;\">\n",
       "      <th></th>\n",
       "      <th>0</th>\n",
       "      <th>1</th>\n",
       "      <th>2</th>\n",
       "      <th>3</th>\n",
       "      <th>4</th>\n",
       "      <th>5</th>\n",
       "      <th>6</th>\n",
       "      <th>7</th>\n",
       "      <th>8</th>\n",
       "      <th>9</th>\n",
       "      <th>...</th>\n",
       "      <th>775</th>\n",
       "      <th>776</th>\n",
       "      <th>777</th>\n",
       "      <th>778</th>\n",
       "      <th>779</th>\n",
       "      <th>780</th>\n",
       "      <th>781</th>\n",
       "      <th>782</th>\n",
       "      <th>783</th>\n",
       "      <th>784</th>\n",
       "    </tr>\n",
       "  </thead>\n",
       "  <tbody>\n",
       "    <tr>\n",
       "      <th>0</th>\n",
       "      <td>7</td>\n",
       "      <td>0</td>\n",
       "      <td>0</td>\n",
       "      <td>0</td>\n",
       "      <td>0</td>\n",
       "      <td>0</td>\n",
       "      <td>0</td>\n",
       "      <td>0</td>\n",
       "      <td>0</td>\n",
       "      <td>0</td>\n",
       "      <td>...</td>\n",
       "      <td>0</td>\n",
       "      <td>0</td>\n",
       "      <td>0</td>\n",
       "      <td>0</td>\n",
       "      <td>0</td>\n",
       "      <td>0</td>\n",
       "      <td>0</td>\n",
       "      <td>0</td>\n",
       "      <td>0</td>\n",
       "      <td>0</td>\n",
       "    </tr>\n",
       "    <tr>\n",
       "      <th>1</th>\n",
       "      <td>2</td>\n",
       "      <td>0</td>\n",
       "      <td>0</td>\n",
       "      <td>0</td>\n",
       "      <td>0</td>\n",
       "      <td>0</td>\n",
       "      <td>0</td>\n",
       "      <td>0</td>\n",
       "      <td>0</td>\n",
       "      <td>0</td>\n",
       "      <td>...</td>\n",
       "      <td>0</td>\n",
       "      <td>0</td>\n",
       "      <td>0</td>\n",
       "      <td>0</td>\n",
       "      <td>0</td>\n",
       "      <td>0</td>\n",
       "      <td>0</td>\n",
       "      <td>0</td>\n",
       "      <td>0</td>\n",
       "      <td>0</td>\n",
       "    </tr>\n",
       "    <tr>\n",
       "      <th>2</th>\n",
       "      <td>1</td>\n",
       "      <td>0</td>\n",
       "      <td>0</td>\n",
       "      <td>0</td>\n",
       "      <td>0</td>\n",
       "      <td>0</td>\n",
       "      <td>0</td>\n",
       "      <td>0</td>\n",
       "      <td>0</td>\n",
       "      <td>0</td>\n",
       "      <td>...</td>\n",
       "      <td>0</td>\n",
       "      <td>0</td>\n",
       "      <td>0</td>\n",
       "      <td>0</td>\n",
       "      <td>0</td>\n",
       "      <td>0</td>\n",
       "      <td>0</td>\n",
       "      <td>0</td>\n",
       "      <td>0</td>\n",
       "      <td>0</td>\n",
       "    </tr>\n",
       "    <tr>\n",
       "      <th>3</th>\n",
       "      <td>0</td>\n",
       "      <td>0</td>\n",
       "      <td>0</td>\n",
       "      <td>0</td>\n",
       "      <td>0</td>\n",
       "      <td>0</td>\n",
       "      <td>0</td>\n",
       "      <td>0</td>\n",
       "      <td>0</td>\n",
       "      <td>0</td>\n",
       "      <td>...</td>\n",
       "      <td>0</td>\n",
       "      <td>0</td>\n",
       "      <td>0</td>\n",
       "      <td>0</td>\n",
       "      <td>0</td>\n",
       "      <td>0</td>\n",
       "      <td>0</td>\n",
       "      <td>0</td>\n",
       "      <td>0</td>\n",
       "      <td>0</td>\n",
       "    </tr>\n",
       "    <tr>\n",
       "      <th>4</th>\n",
       "      <td>4</td>\n",
       "      <td>0</td>\n",
       "      <td>0</td>\n",
       "      <td>0</td>\n",
       "      <td>0</td>\n",
       "      <td>0</td>\n",
       "      <td>0</td>\n",
       "      <td>0</td>\n",
       "      <td>0</td>\n",
       "      <td>0</td>\n",
       "      <td>...</td>\n",
       "      <td>0</td>\n",
       "      <td>0</td>\n",
       "      <td>0</td>\n",
       "      <td>0</td>\n",
       "      <td>0</td>\n",
       "      <td>0</td>\n",
       "      <td>0</td>\n",
       "      <td>0</td>\n",
       "      <td>0</td>\n",
       "      <td>0</td>\n",
       "    </tr>\n",
       "  </tbody>\n",
       "</table>\n",
       "<p>5 rows × 785 columns</p>\n",
       "</div>"
      ],
      "text/plain": [
       "   0    1    2    3    4    5    6    7    8    9    ...  775  776  777  778  \\\n",
       "0    7    0    0    0    0    0    0    0    0    0  ...    0    0    0    0   \n",
       "1    2    0    0    0    0    0    0    0    0    0  ...    0    0    0    0   \n",
       "2    1    0    0    0    0    0    0    0    0    0  ...    0    0    0    0   \n",
       "3    0    0    0    0    0    0    0    0    0    0  ...    0    0    0    0   \n",
       "4    4    0    0    0    0    0    0    0    0    0  ...    0    0    0    0   \n",
       "\n",
       "   779  780  781  782  783  784  \n",
       "0    0    0    0    0    0    0  \n",
       "1    0    0    0    0    0    0  \n",
       "2    0    0    0    0    0    0  \n",
       "3    0    0    0    0    0    0  \n",
       "4    0    0    0    0    0    0  \n",
       "\n",
       "[5 rows x 785 columns]"
      ]
     },
     "execution_count": 4,
     "metadata": {},
     "output_type": "execute_result"
    }
   ],
   "source": [
    "print(test.shape)\n",
    "test.head(5)"
   ]
  },
  {
   "cell_type": "code",
   "execution_count": 5,
   "metadata": {},
   "outputs": [
    {
     "name": "stdout",
     "output_type": "stream",
     "text": [
      "(60000, 785)\n"
     ]
    },
    {
     "data": {
      "text/html": [
       "<div>\n",
       "<style scoped>\n",
       "    .dataframe tbody tr th:only-of-type {\n",
       "        vertical-align: middle;\n",
       "    }\n",
       "\n",
       "    .dataframe tbody tr th {\n",
       "        vertical-align: top;\n",
       "    }\n",
       "\n",
       "    .dataframe thead th {\n",
       "        text-align: right;\n",
       "    }\n",
       "</style>\n",
       "<table border=\"1\" class=\"dataframe\">\n",
       "  <thead>\n",
       "    <tr style=\"text-align: right;\">\n",
       "      <th></th>\n",
       "      <th>0</th>\n",
       "      <th>1</th>\n",
       "      <th>2</th>\n",
       "      <th>3</th>\n",
       "      <th>4</th>\n",
       "      <th>5</th>\n",
       "      <th>6</th>\n",
       "      <th>7</th>\n",
       "      <th>8</th>\n",
       "      <th>9</th>\n",
       "      <th>...</th>\n",
       "      <th>775</th>\n",
       "      <th>776</th>\n",
       "      <th>777</th>\n",
       "      <th>778</th>\n",
       "      <th>779</th>\n",
       "      <th>780</th>\n",
       "      <th>781</th>\n",
       "      <th>782</th>\n",
       "      <th>783</th>\n",
       "      <th>784</th>\n",
       "    </tr>\n",
       "  </thead>\n",
       "  <tbody>\n",
       "    <tr>\n",
       "      <th>0</th>\n",
       "      <td>5</td>\n",
       "      <td>0</td>\n",
       "      <td>0</td>\n",
       "      <td>0</td>\n",
       "      <td>0</td>\n",
       "      <td>0</td>\n",
       "      <td>0</td>\n",
       "      <td>0</td>\n",
       "      <td>0</td>\n",
       "      <td>0</td>\n",
       "      <td>...</td>\n",
       "      <td>0</td>\n",
       "      <td>0</td>\n",
       "      <td>0</td>\n",
       "      <td>0</td>\n",
       "      <td>0</td>\n",
       "      <td>0</td>\n",
       "      <td>0</td>\n",
       "      <td>0</td>\n",
       "      <td>0</td>\n",
       "      <td>0</td>\n",
       "    </tr>\n",
       "    <tr>\n",
       "      <th>1</th>\n",
       "      <td>0</td>\n",
       "      <td>0</td>\n",
       "      <td>0</td>\n",
       "      <td>0</td>\n",
       "      <td>0</td>\n",
       "      <td>0</td>\n",
       "      <td>0</td>\n",
       "      <td>0</td>\n",
       "      <td>0</td>\n",
       "      <td>0</td>\n",
       "      <td>...</td>\n",
       "      <td>0</td>\n",
       "      <td>0</td>\n",
       "      <td>0</td>\n",
       "      <td>0</td>\n",
       "      <td>0</td>\n",
       "      <td>0</td>\n",
       "      <td>0</td>\n",
       "      <td>0</td>\n",
       "      <td>0</td>\n",
       "      <td>0</td>\n",
       "    </tr>\n",
       "    <tr>\n",
       "      <th>2</th>\n",
       "      <td>4</td>\n",
       "      <td>0</td>\n",
       "      <td>0</td>\n",
       "      <td>0</td>\n",
       "      <td>0</td>\n",
       "      <td>0</td>\n",
       "      <td>0</td>\n",
       "      <td>0</td>\n",
       "      <td>0</td>\n",
       "      <td>0</td>\n",
       "      <td>...</td>\n",
       "      <td>0</td>\n",
       "      <td>0</td>\n",
       "      <td>0</td>\n",
       "      <td>0</td>\n",
       "      <td>0</td>\n",
       "      <td>0</td>\n",
       "      <td>0</td>\n",
       "      <td>0</td>\n",
       "      <td>0</td>\n",
       "      <td>0</td>\n",
       "    </tr>\n",
       "    <tr>\n",
       "      <th>3</th>\n",
       "      <td>1</td>\n",
       "      <td>0</td>\n",
       "      <td>0</td>\n",
       "      <td>0</td>\n",
       "      <td>0</td>\n",
       "      <td>0</td>\n",
       "      <td>0</td>\n",
       "      <td>0</td>\n",
       "      <td>0</td>\n",
       "      <td>0</td>\n",
       "      <td>...</td>\n",
       "      <td>0</td>\n",
       "      <td>0</td>\n",
       "      <td>0</td>\n",
       "      <td>0</td>\n",
       "      <td>0</td>\n",
       "      <td>0</td>\n",
       "      <td>0</td>\n",
       "      <td>0</td>\n",
       "      <td>0</td>\n",
       "      <td>0</td>\n",
       "    </tr>\n",
       "    <tr>\n",
       "      <th>4</th>\n",
       "      <td>9</td>\n",
       "      <td>0</td>\n",
       "      <td>0</td>\n",
       "      <td>0</td>\n",
       "      <td>0</td>\n",
       "      <td>0</td>\n",
       "      <td>0</td>\n",
       "      <td>0</td>\n",
       "      <td>0</td>\n",
       "      <td>0</td>\n",
       "      <td>...</td>\n",
       "      <td>0</td>\n",
       "      <td>0</td>\n",
       "      <td>0</td>\n",
       "      <td>0</td>\n",
       "      <td>0</td>\n",
       "      <td>0</td>\n",
       "      <td>0</td>\n",
       "      <td>0</td>\n",
       "      <td>0</td>\n",
       "      <td>0</td>\n",
       "    </tr>\n",
       "  </tbody>\n",
       "</table>\n",
       "<p>5 rows × 785 columns</p>\n",
       "</div>"
      ],
      "text/plain": [
       "   0    1    2    3    4    5    6    7    8    9    ...  775  776  777  778  \\\n",
       "0    5    0    0    0    0    0    0    0    0    0  ...    0    0    0    0   \n",
       "1    0    0    0    0    0    0    0    0    0    0  ...    0    0    0    0   \n",
       "2    4    0    0    0    0    0    0    0    0    0  ...    0    0    0    0   \n",
       "3    1    0    0    0    0    0    0    0    0    0  ...    0    0    0    0   \n",
       "4    9    0    0    0    0    0    0    0    0    0  ...    0    0    0    0   \n",
       "\n",
       "   779  780  781  782  783  784  \n",
       "0    0    0    0    0    0    0  \n",
       "1    0    0    0    0    0    0  \n",
       "2    0    0    0    0    0    0  \n",
       "3    0    0    0    0    0    0  \n",
       "4    0    0    0    0    0    0  \n",
       "\n",
       "[5 rows x 785 columns]"
      ]
     },
     "execution_count": 5,
     "metadata": {},
     "output_type": "execute_result"
    }
   ],
   "source": [
    "print(train.shape)\n",
    "train.head(5)"
   ]
  },
  {
   "cell_type": "code",
   "execution_count": 6,
   "metadata": {},
   "outputs": [
    {
     "data": {
      "text/plain": [
       "(60000, 10000)"
      ]
     },
     "execution_count": 6,
     "metadata": {},
     "output_type": "execute_result"
    }
   ],
   "source": [
    "len(train), len(test)"
   ]
  },
  {
   "cell_type": "code",
   "execution_count": 7,
   "metadata": {},
   "outputs": [],
   "source": [
    "def preprocess(data):\n",
    "    X = data.iloc[:, 1:]\n",
    "    y = data.iloc[:, 0]\n",
    "    digits = {j:[] for j in range(10)}\n",
    "    for j in range(len(y)):\n",
    "        cur_label = int(y[j])\n",
    "        cur_pixel_data = np.array(X.iloc[j]).reshape(28,28)\n",
    "        digits[cur_label].append(cur_pixel_data)\n",
    "    digits = {j:np.stack(digits[j]) for j in range(10)}\n",
    "    for j in range(10):\n",
    "        print('shape of data with label', j, ':', digits[j].shape)\n",
    "    \n",
    "    return digits"
   ]
  },
  {
   "cell_type": "code",
   "execution_count": 8,
   "metadata": {},
   "outputs": [
    {
     "name": "stdout",
     "output_type": "stream",
     "text": [
      "shape of data with label 0 : (5923, 28, 28)\n",
      "shape of data with label 1 : (6742, 28, 28)\n",
      "shape of data with label 2 : (5958, 28, 28)\n",
      "shape of data with label 3 : (6131, 28, 28)\n",
      "shape of data with label 4 : (5842, 28, 28)\n",
      "shape of data with label 5 : (5421, 28, 28)\n",
      "shape of data with label 6 : (5918, 28, 28)\n",
      "shape of data with label 7 : (6265, 28, 28)\n",
      "shape of data with label 8 : (5851, 28, 28)\n",
      "shape of data with label 9 : (5949, 28, 28)\n"
     ]
    }
   ],
   "source": [
    "train_digits = preprocess(train)"
   ]
  },
  {
   "cell_type": "code",
   "execution_count": 9,
   "metadata": {},
   "outputs": [
    {
     "name": "stdout",
     "output_type": "stream",
     "text": [
      "shape of data with label 0 : (980, 28, 28)\n",
      "shape of data with label 1 : (1135, 28, 28)\n",
      "shape of data with label 2 : (1032, 28, 28)\n",
      "shape of data with label 3 : (1010, 28, 28)\n",
      "shape of data with label 4 : (982, 28, 28)\n",
      "shape of data with label 5 : (892, 28, 28)\n",
      "shape of data with label 6 : (958, 28, 28)\n",
      "shape of data with label 7 : (1028, 28, 28)\n",
      "shape of data with label 8 : (974, 28, 28)\n",
      "shape of data with label 9 : (1009, 28, 28)\n"
     ]
    }
   ],
   "source": [
    "test_digits = preprocess(test)"
   ]
  },
  {
   "cell_type": "markdown",
   "metadata": {},
   "source": [
    "# (4a) Plotting\n",
    "\n",
    "Display one randomly selected image from your training data for each digit class. Provide the index number for each image."
   ]
  },
  {
   "cell_type": "code",
   "execution_count": 12,
   "metadata": {},
   "outputs": [
    {
     "data": {
      "image/png": "[encoded data removed]",
      "text/plain": [
       "<Figure size 1500x600 with 10 Axes>"
      ]
     },
     "metadata": {},
     "output_type": "display_data"
    }
   ],
   "source": [
    "import random\n",
    "\n",
    "def display_random_images(digits_data):\n",
    "    fig, axes = plt.subplots(2, 5, figsize=(15, 6))\n",
    "    fig.subplots_adjust(hspace=0.5, wspace=0.5)\n",
    "\n",
    "    for i in range(10):\n",
    "        ax = axes[i // 5, i % 5]\n",
    "        index = random.randint(0, digits_data[i].shape[0] - 1)\n",
    "        image = digits_data[i][index]\n",
    "        \n",
    "        ax.imshow(image, cmap='gray')\n",
    "        ax.set_title(f'Digit: {i}\\nIndex: {index}')\n",
    "        ax.axis('off')\n",
    "\n",
    "    plt.show()\n",
    "    \n",
    "display_random_images(train_digits)"
   ]
  },
  {
   "cell_type": "markdown",
   "metadata": {},
   "source": [
    "# (4b) Label data\n",
    "\n",
    "Select the first 500 examples of 0’s and 1’s for this example, those will form the training data $(x_i , y_i) \\in \\mathbb{R}^{784} \\times \\{−1,1\\}, i = 1,...,1000$. Assign label $y_i = 1$ for 1s and $y_i = −1$ for 0s.  You can use __np.vectorize__ here."
   ]
  },
  {
   "cell_type": "code",
   "execution_count": 11,
   "metadata": {},
   "outputs": [
    {
     "data": {
      "text/plain": [
       "(5923, 784)"
      ]
     },
     "execution_count": 11,
     "metadata": {},
     "output_type": "execute_result"
    }
   ],
   "source": [
    "train_zero_data = train_digits[0]\n",
    "train_one_data = train_digits[1]\n",
    "\n",
    "train_zero_labels = np.ones(len(train_zero_data))*-1\n",
    "train_one_labels = np.ones(len(train_one_data))\n",
    "\n",
    "train_zero_data = np.reshape(train_zero_data, (len(train_zero_data), 28*28))\n",
    "train_one_data = np.reshape(train_one_data, (len(train_one_data), 28*28))\n",
    "\n",
    "train_zero_data.shape"
   ]
  },
  {
   "cell_type": "code",
   "execution_count": 12,
   "metadata": {},
   "outputs": [
    {
     "data": {
      "text/plain": [
       "((1000, 784), (1000,))"
      ]
     },
     "execution_count": 12,
     "metadata": {},
     "output_type": "execute_result"
    }
   ],
   "source": [
    "train_zero_data = train_zero_data[:500]\n",
    "train_one_data = train_one_data[:500]\n",
    "\n",
    "train_zero_labels = train_zero_labels[:500]\n",
    "train_one_labels = train_one_labels[:500]\n",
    "\n",
    "train_data = np.concatenate((train_zero_data, train_one_data))\n",
    "train_labels = np.concatenate((train_zero_labels, train_one_labels))\n",
    "\n",
    "train_data.shape, train_labels.shape"
   ]
  },
  {
   "cell_type": "code",
   "execution_count": 13,
   "metadata": {},
   "outputs": [
    {
     "data": {
      "text/plain": [
       "(980, 784)"
      ]
     },
     "execution_count": 13,
     "metadata": {},
     "output_type": "execute_result"
    }
   ],
   "source": [
    "test_zero_data = test_digits[0]\n",
    "test_one_data = test_digits[1]\n",
    "\n",
    "test_zero_labels = np.ones(len(test_zero_data))*-1\n",
    "test_one_labels = np.ones(len(test_one_data))\n",
    "\n",
    "test_zero_data = np.reshape(test_zero_data, (len(test_zero_data), 28*28))\n",
    "test_one_data = np.reshape(test_one_data, (len(test_one_data), 28*28))\n",
    "\n",
    "test_zero_data.shape"
   ]
  },
  {
   "cell_type": "code",
   "execution_count": 14,
   "metadata": {},
   "outputs": [
    {
     "data": {
      "text/plain": [
       "((1000, 784), (1000,))"
      ]
     },
     "execution_count": 14,
     "metadata": {},
     "output_type": "execute_result"
    }
   ],
   "source": [
    "test_zero_data = test_zero_data[:500]\n",
    "test_one_data = test_one_data[:500]\n",
    "\n",
    "test_zero_labels = test_zero_labels[:500]\n",
    "test_one_labels = test_one_labels[:500]\n",
    "\n",
    "test_data = np.concatenate((test_zero_data, test_one_data))\n",
    "test_labels = np.concatenate((test_zero_labels, test_one_labels))\n",
    "\n",
    "test_data.shape, test_labels.shape"
   ]
  },
  {
   "cell_type": "markdown",
   "metadata": {},
   "source": [
    "# (4bi) Running Gradient Descent\n",
    "\n",
    "Implement and run a Gradient Descent algorithm, with step-size $\\mu = 10^{-4}$, to optimize the function above associated with this setup. You should run your algorithm for at least $T = 10,000$ iterations, but if your computer can handle it try $T=100,000$ or until a reasonable stopping criterion is satisfied.  Provide a plot showing the value of $F(w)$ at each iteration. Also, feel free to adjust $\\mu$ to be larger / smaller if the plot does not match your expectations."
   ]
  },
  {
   "cell_type": "code",
   "execution_count": 15,
   "metadata": {},
   "outputs": [],
   "source": [
    "def logistic_loss(w, X, y):\n",
    "    z = np.dot(X,w)\n",
    "    log_loss = np.log(1 + np.exp(-y * z))\n",
    "    log_loss = np.clip(log_loss, a_min=None, a_max=500)\n",
    "    return np.mean(log_loss)\n",
    "\n",
    "def logistic_loss_gradient(w, X, y):\n",
    "    z = np.dot(X, w)\n",
    "    sigmoid = 1 / (1 + np.exp(-z))\n",
    "    gradient = np.dot(X.T, (sigmoid - (y==1))) / X.shape[0]\n",
    "    return gradient\n",
    "\n",
    "def gradient_descent(X, y, lr, total_epochs, tol):\n",
    "    w = np.zeros(X.shape[1])\n",
    "    losses = []\n",
    "    for epoch in range(total_epochs):\n",
    "        loss = logistic_loss(w, X, y)\n",
    "        losses.append(loss)\n",
    "        gradient = logistic_loss_gradient(w, X, y)\n",
    "        w = w - lr * gradient\n",
    "\n",
    "        if np.linalg.norm(gradient) < tol:\n",
    "            break\n",
    "    return w, losses\n"
   ]
  },
  {
   "cell_type": "code",
   "execution_count": 20,
   "metadata": {},
   "outputs": [
    {
     "data": {
      "image/png": "[encoded data removed]",
      "text/plain": [
       "<Figure size 640x480 with 1 Axes>"
      ]
     },
     "metadata": {},
     "output_type": "display_data"
    }
   ],
   "source": [
    "from matplotlib.ticker import LinearLocator\n",
    "\n",
    "lr = 0.0001\n",
    "total_epochs = 1000\n",
    "tol = 0.00001\n",
    "\n",
    "w, losses = gradient_descent(train_data, train_labels, lr, total_epochs, tol)\n",
    "# print(w)\n",
    "# print(gradient)\n",
    "\n",
    "plt.plot(losses)\n",
    "plt.title('l_infinity_gradient_descent')\n",
    "plt.xlabel('Epoch')\n",
    "plt.ylabel('Loss')\n",
    "plt.gca().yaxis.set_major_locator(LinearLocator(numticks=10))\n",
    "\n",
    "plt.show()\n",
    "plt.close()"
   ]
  },
  {
   "cell_type": "markdown",
   "metadata": {},
   "source": [
    "# (4bii) Discussion about gradient descent\n",
    "\n",
    "Comment on the resulting plot. In particular, does the shape of $F(w)$ suggest you've successfully converged to a local or global minimum?  Does it appear you chose a good stopping criteria?  Explain whether your\n",
    "answers to these questions are consistent with the theory we discussed in class (and in the\n",
    "notes). Be specific i.e., point to a specific theorem (or theorems) and indicate\n",
    "why it does or does not explain the behavior of the algorithm.  Would the theory dictate a different choice of $\\mu$ than the one we used?"
   ]
  },
  {
   "cell_type": "markdown",
   "metadata": {},
   "source": [
    "Put discussion here:\n",
    "The shape of F(w) shows a successfully converged to a local minimum, since F are convex, continuous, and differentiable. As the iterations increase, the loss of |F(w^(t+1)) - F(w)| approach 0, and the stopping criteria we choose is sufficient as it break the iteration early if gradient equal to zero. Above discover align with our discussion in class about the Sufficient Conditions for Optimization theorems. It explains the behavior of the algorithm since when w* is local min, F(w+h)>=F(w). F(w) should decrease as iterations increase."
   ]
  },
  {
   "cell_type": "markdown",
   "metadata": {},
   "source": [
    "# (4biii) \n"
   ]
  },
  {
   "cell_type": "markdown",
   "metadata": {},
   "source": [
    "Now, use the $w$ you found from part (a) to classify the first 500 \\emph{test} data points associated to\n",
    "each of the 0 and 1 handwritten digits. Recall that you need to use the function $y = \\text{sign}(w^T x)$\n",
    "to classify. What was the classification error rate associated with the two digits on the test\n",
    "data (this should be a number between 0 and 1)? What was it on the training data?  Does this relationship make sense?"
   ]
  },
  {
   "cell_type": "code",
   "execution_count": 16,
   "metadata": {},
   "outputs": [
    {
     "name": "stdout",
     "output_type": "stream",
     "text": [
      "Train error:  0.0\n",
      "Test error:  0.001\n"
     ]
    }
   ],
   "source": [
    "def classify(w, X, y):\n",
    "    y_pred = np.sign(np.dot(X, w))\n",
    "    return np.mean(y_pred != y)\n",
    "\n",
    "train_error = classify(w, train_data, train_labels)\n",
    "test_error = classify(w, test_data, test_labels)\n",
    "\n",
    "print('Train error: ', train_error)\n",
    "print('Test error: ', test_error)"
   ]
  },
  {
   "cell_type": "markdown",
   "metadata": {},
   "source": [
    "# (4c) Repeat with 4s and 9s\n",
    "\n",
    "Repeat parts (b)i. and (b)iii. for digits of 4s and 9s. Comment on the difference between the results and propose a reason as to why the performance did or did not change."
   ]
  },
  {
   "cell_type": "code",
   "execution_count": 17,
   "metadata": {},
   "outputs": [
    {
     "data": {
      "text/plain": [
       "((1000, 784), (1000,))"
      ]
     },
     "execution_count": 17,
     "metadata": {},
     "output_type": "execute_result"
    }
   ],
   "source": [
    "train_zero_data = train_digits[4]\n",
    "train_one_data = train_digits[9]\n",
    "\n",
    "train_zero_labels = np.ones(len(train_zero_data))*-1\n",
    "train_one_labels = np.ones(len(train_one_data))\n",
    "\n",
    "train_zero_data = np.reshape(train_zero_data, (len(train_zero_data), 28*28))\n",
    "train_one_data = np.reshape(train_one_data, (len(train_one_data), 28*28))\n",
    "\n",
    "train_zero_data = train_zero_data[:500]\n",
    "train_one_data = train_one_data[:500]\n",
    "\n",
    "train_zero_labels = train_zero_labels[:500]\n",
    "train_one_labels = train_one_labels[:500]\n",
    "\n",
    "train_data = np.concatenate((train_zero_data, train_one_data))\n",
    "train_labels = np.concatenate((train_zero_labels, train_one_labels))\n",
    "\n",
    "train_zero_data = train_zero_data[:500]\n",
    "train_one_data = train_one_data[:500]\n",
    "\n",
    "train_zero_labels = train_zero_labels[:500]\n",
    "train_one_labels = train_one_labels[:500]\n",
    "\n",
    "train_data = np.concatenate((train_zero_data, train_one_data))\n",
    "train_labels = np.concatenate((train_zero_labels, train_one_labels))\n",
    "\n",
    "train_data.shape, train_labels.shape"
   ]
  },
  {
   "cell_type": "code",
   "execution_count": 18,
   "metadata": {},
   "outputs": [
    {
     "data": {
      "text/plain": [
       "((1000, 784), (1000,))"
      ]
     },
     "execution_count": 18,
     "metadata": {},
     "output_type": "execute_result"
    }
   ],
   "source": [
    "test_zero_data = test_digits[4]\n",
    "test_one_data = test_digits[9]\n",
    "\n",
    "test_zero_labels = np.ones(len(test_zero_data))*-1\n",
    "test_one_labels = np.ones(len(test_one_data))\n",
    "\n",
    "test_zero_data = np.reshape(test_zero_data, (len(test_zero_data), 28*28))\n",
    "test_one_data = np.reshape(test_one_data, (len(test_one_data), 28*28))\n",
    "\n",
    "test_zero_data = test_zero_data[:500]\n",
    "test_one_data = test_one_data[:500]\n",
    "\n",
    "test_zero_labels = test_zero_labels[:500]\n",
    "test_one_labels = test_one_labels[:500]\n",
    "\n",
    "test_data = np.concatenate((test_zero_data, test_one_data))\n",
    "test_labels = np.concatenate((test_zero_labels, test_one_labels))\n",
    "\n",
    "test_data.shape, test_labels.shape"
   ]
  },
  {
   "cell_type": "code",
   "execution_count": 21,
   "metadata": {},
   "outputs": [
    {
     "data": {
      "image/png": "[encoded data removed]",
      "text/plain": [
       "<Figure size 640x480 with 1 Axes>"
      ]
     },
     "metadata": {},
     "output_type": "display_data"
    }
   ],
   "source": [
    "lr = 0.0001\n",
    "total_epochs = 10000\n",
    "tol = 0.00001\n",
    "\n",
    "w, losses = gradient_descent(train_data, train_labels, lr, total_epochs, tol)\n",
    "\n",
    "plt.plot(losses)\n",
    "plt.xlabel('Epoch')\n",
    "plt.ylabel('Loss')\n",
    "plt.show()\n",
    "plt.close()"
   ]
  },
  {
   "cell_type": "code",
   "execution_count": 63,
   "metadata": {},
   "outputs": [
    {
     "name": "stdout",
     "output_type": "stream",
     "text": [
      "Train error:  0.0\n",
      "Test error:  0.06\n"
     ]
    }
   ],
   "source": [
    "train_error = classify(w, train_data, train_labels)\n",
    "test_error = classify(w, test_data, test_labels)\n",
    "\n",
    "print('Train error: ', train_error)\n",
    "print('Test error: ', test_error)"
   ]
  },
  {
   "cell_type": "markdown",
   "metadata": {},
   "source": [
    "The shape of resulting plots are similar with larger iterations between 0, 1 and 4, 9. While 4 and 9 have larger losses in the beginning. The classification error on the testing set for 4s and 9s is larger than testing set for 0s and 1s while the error on training set both have 0.0 classification error.\n",
    "\n",
    "The performance difference may be due to the complexity difference of 2 groups. Since the 0s and 1s are simpler to distinguish while 4s and 9s have higher complexity that result in a larger classification error"
   ]
  },
  {
   "cell_type": "code",
   "execution_count": null,
   "metadata": {},
   "outputs": [],
   "source": []
  }
 ],
 "metadata": {
  "kernelspec": {
   "display_name": "base",
   "language": "python",
   "name": "python3"
  },
  "language_info": {
   "codemirror_mode": {
    "name": "ipython",
    "version": 3
   },
   "file_extension": ".py",
   "mimetype": "text/x-python",
   "name": "python",
   "nbconvert_exporter": "python",
   "pygments_lexer": "ipython3",
   "version": "3.9.2"
  }
 },
 "nbformat": 4,
 "nbformat_minor": 2
}

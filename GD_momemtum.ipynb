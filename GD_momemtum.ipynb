{
 "cells": [
  {
   "cell_type": "code",
   "execution_count": 1,
   "metadata": {},
   "outputs": [],
   "source": [
    "import pandas as pd\n",
    "import numpy as np\n",
    "from matplotlib import pyplot as plt\n",
    "from sklearn.datasets import fetch_openml\n",
    "\n",
    "# test = pd.read_csv('mnist_test.csv', names=[f\"x{i}\" for i in range(784)] + [\"y\"])\n",
    "# train = pd.read_csv('mnist_train.csv', names=[f\"x{i}\" for i in range(784)] + [\"y\"])\n",
    "test = pd.read_csv('mnist_test.csv',header=None)\n",
    "train = pd.read_csv('mnist_train.csv', header=None)"
   ]
  },
  {
   "cell_type": "code",
   "execution_count": 2,
   "metadata": {},
   "outputs": [
    {
     "name": "stdout",
     "output_type": "stream",
     "text": [
      "shape of data with label 0 : (5923, 28, 28)\n",
      "shape of data with label 1 : (6742, 28, 28)\n",
      "shape of data with label 2 : (5958, 28, 28)\n",
      "shape of data with label 3 : (6131, 28, 28)\n",
      "shape of data with label 4 : (5842, 28, 28)\n",
      "shape of data with label 5 : (5421, 28, 28)\n",
      "shape of data with label 6 : (5918, 28, 28)\n",
      "shape of data with label 7 : (6265, 28, 28)\n",
      "shape of data with label 8 : (5851, 28, 28)\n",
      "shape of data with label 9 : (5949, 28, 28)\n",
      "shape of data with label 0 : (980, 28, 28)\n",
      "shape of data with label 1 : (1135, 28, 28)\n",
      "shape of data with label 2 : (1032, 28, 28)\n",
      "shape of data with label 3 : (1010, 28, 28)\n",
      "shape of data with label 4 : (982, 28, 28)\n",
      "shape of data with label 5 : (892, 28, 28)\n",
      "shape of data with label 6 : (958, 28, 28)\n",
      "shape of data with label 7 : (1028, 28, 28)\n",
      "shape of data with label 8 : (974, 28, 28)\n",
      "shape of data with label 9 : (1009, 28, 28)\n"
     ]
    }
   ],
   "source": [
    "def preprocess(data):\n",
    "    X = data.iloc[:, 1:]\n",
    "    y = data.iloc[:, 0]\n",
    "    digits = {j:[] for j in range(10)}\n",
    "    for j in range(len(y)):\n",
    "        cur_label = int(y[j])\n",
    "        cur_pixel_data = np.array(X.iloc[j]).reshape(28,28)\n",
    "        digits[cur_label].append(cur_pixel_data)\n",
    "    digits = {j:np.stack(digits[j]) for j in range(10)}\n",
    "    for j in range(10):\n",
    "        print('shape of data with label', j, ':', digits[j].shape)\n",
    "    \n",
    "    return digits\n",
    "\n",
    "train_digits = preprocess(train)\n",
    "test_digits = preprocess(test)"
   ]
  },
  {
   "cell_type": "code",
   "execution_count": 3,
   "metadata": {},
   "outputs": [
    {
     "data": {
      "text/plain": [
       "((1000, 784), (1000,))"
      ]
     },
     "execution_count": 3,
     "metadata": {},
     "output_type": "execute_result"
    }
   ],
   "source": [
    "train_four_data = train_digits[4]\n",
    "train_nine_data = train_digits[9]\n",
    "\n",
    "train_four_labels = np.ones(len(train_four_data))*-1\n",
    "train_nine_labels = np.ones(len(train_nine_data))\n",
    "\n",
    "train_four_data = np.reshape(train_four_data, (len(train_four_data), 28*28))\n",
    "train_nine_data = np.reshape(train_nine_data, (len(train_nine_data), 28*28))\n",
    "\n",
    "train_four_data = train_four_data[:500]\n",
    "train_nine_data = train_nine_data[:500]\n",
    "\n",
    "train_four_labels = train_four_labels[:500]\n",
    "train_nine_labels = train_nine_labels[:500]\n",
    "\n",
    "train_data = np.concatenate((train_four_data, train_nine_data))\n",
    "train_labels = np.concatenate((train_four_labels, train_nine_labels))\n",
    "\n",
    "train_four_data = train_four_data[:500]\n",
    "train_nine_data = train_nine_data[:500]\n",
    "\n",
    "train_four_labels = train_four_labels[:500]\n",
    "train_nine_labels = train_nine_labels[:500]\n",
    "\n",
    "train_data = np.concatenate((train_four_data, train_nine_data))\n",
    "train_labels = np.concatenate((train_four_labels, train_nine_labels))\n",
    "\n",
    "train_data.shape, train_labels.shape"
   ]
  },
  {
   "cell_type": "code",
   "execution_count": 4,
   "metadata": {},
   "outputs": [
    {
     "data": {
      "text/plain": [
       "((1000, 784), (1000,))"
      ]
     },
     "execution_count": 4,
     "metadata": {},
     "output_type": "execute_result"
    }
   ],
   "source": [
    "test_four_data = test_digits[4]\n",
    "test_nine_data = test_digits[9]\n",
    "\n",
    "test_four_labels = np.ones(len(test_four_data))*-1\n",
    "test_nine_labels = np.ones(len(test_nine_data))\n",
    "\n",
    "test_four_data = np.reshape(test_four_data, (len(test_four_data), 28*28))\n",
    "test_nine_data = np.reshape(test_nine_data, (len(test_nine_data), 28*28))\n",
    "\n",
    "test_four_data = test_four_data[:500]\n",
    "test_nine_data = test_nine_data[:500]\n",
    "\n",
    "test_four_labels = test_four_labels[:500]\n",
    "test_nine_labels = test_nine_labels[:500]\n",
    "\n",
    "test_data = np.concatenate((test_four_data, test_nine_data))\n",
    "test_labels = np.concatenate((test_four_labels, test_nine_labels))\n",
    "\n",
    "test_data.shape, test_labels.shape"
   ]
  },
  {
   "cell_type": "code",
   "execution_count": 5,
   "metadata": {},
   "outputs": [
    {
     "data": {
      "text/plain": [
       "(784,)"
      ]
     },
     "execution_count": 5,
     "metadata": {},
     "output_type": "execute_result"
    }
   ],
   "source": [
    "np.zeros(train_data.shape[1]).shape"
   ]
  },
  {
   "cell_type": "code",
   "execution_count": 6,
   "metadata": {},
   "outputs": [],
   "source": [
    "# def grad_F(w, X, y):\n",
    "#     exp_val = np.exp(-y * (X @ w))\n",
    "#     grad = (-exp_val / (1 + exp_val))[:, np.newaxis] * y[:, np.newaxis] * X\n",
    "#     return grad.mean(axis=0)\n",
    "\n",
    "# # Rest of your code remains the same\n",
    "\n",
    "\n",
    "# def F(w, X, y):\n",
    "#     F = np.log(1 + np.exp(-y * (X @ w))).mean()\n",
    "#     return F\n",
    "\n",
    "# def gradient_w_momentum(lr=0.01, beta=0.1, max_iter=2000, tol=1e-6):\n",
    "#     X, y = train_data, train_labels\n",
    "#     w = np.zeros(X.shape[1])  # Initialize weights\n",
    "#     v = np.zeros(X.shape[1])  # Initialize velocity for momentum\n",
    "#     losses = []\n",
    "\n",
    "#     for i in range(max_iter):\n",
    "#         losses.append(F(w, X, y))\n",
    "#         gradient = grad_F(w, X, y)\n",
    "\n",
    "#         v = beta * v + lr * gradient  # Update velocity\n",
    "#         w = w - v  # Update weights\n",
    "\n",
    "#         # if np.linalg.norm(gradient) < tol:\n",
    "#         #     break\n",
    "\n",
    "#     return w, losses\n",
    "\n",
    "# w, losses = gradient_w_momentum()\n"
   ]
  },
  {
   "cell_type": "code",
   "execution_count": 7,
   "metadata": {},
   "outputs": [],
   "source": [
    "def logistic_loss(w, X, y):\n",
    "    z = np.dot(X,w)\n",
    "    log_loss = np.log(1 + np.exp(-y * z))\n",
    "    log_loss = np.clip(log_loss, a_min=None, a_max=500)\n",
    "    return np.mean(log_loss)\n",
    "\n",
    "def logistic_loss_gradient(w, X, y):\n",
    "    z = np.dot(X, w)\n",
    "    sigmoid = 1 / (1 + np.exp(-z))\n",
    "    gradient = np.dot(X.T, (sigmoid - (y==1))) / X.shape[0]\n",
    "    return gradient"
   ]
  },
  {
   "cell_type": "code",
   "execution_count": 8,
   "metadata": {},
   "outputs": [
    {
     "name": "stderr",
     "output_type": "stream",
     "text": [
      "/var/folders/90/9f8yk06x5m5cqysc4rrbrs_c0000gn/T/ipykernel_6815/2744043377.py:3: RuntimeWarning: overflow encountered in exp\n",
      "  log_loss = np.log(1 + np.exp(-y * z))\n",
      "/var/folders/90/9f8yk06x5m5cqysc4rrbrs_c0000gn/T/ipykernel_6815/2744043377.py:9: RuntimeWarning: overflow encountered in exp\n",
      "  sigmoid = 1 / (1 + np.exp(-z))\n"
     ]
    }
   ],
   "source": [
    "def gradient_w_momentum(X, y, lr=0.01, beta=0.3, max_iter=2000, tol=1e-6):\n",
    "    w = np.zeros(X.shape[1])  # Initialize weights\n",
    "    v = np.zeros(X.shape[1])  # Initialize velocity for momentum\n",
    "    losses = []\n",
    "\n",
    "    for i in range(max_iter):\n",
    "        loss = logistic_loss(w, X, y)\n",
    "        losses.append(loss)\n",
    "        gradient = logistic_loss_gradient(w, X, y)\n",
    "\n",
    "        v = beta * v + lr * gradient  # Update velocity\n",
    "        w = w - v  # Update weights\n",
    "\n",
    "        if np.linalg.norm(gradient) < tol:\n",
    "            break\n",
    "\n",
    "    return w, losses\n",
    "\n",
    "w, losses = gradient_w_momentum(train_data, train_labels)\n"
   ]
  },
  {
   "cell_type": "code",
   "execution_count": 9,
   "metadata": {},
   "outputs": [
    {
     "data": {
      "image/png": "[encoded data removed]",
      "text/plain": [
       "<Figure size 640x480 with 1 Axes>"
      ]
     },
     "metadata": {},
     "output_type": "display_data"
    }
   ],
   "source": [
    "plt.plot(losses)\n",
    "plt.title('gradient_w_momentum')\n",
    "plt.xlabel('Epoch')\n",
    "plt.ylabel('Loss')\n",
    "\n",
    "\n",
    "plt.show()\n",
    "plt.close()\n"
   ]
  },
  {
   "cell_type": "code",
   "execution_count": 10,
   "metadata": {},
   "outputs": [
    {
     "name": "stderr",
     "output_type": "stream",
     "text": [
      "/var/folders/90/9f8yk06x5m5cqysc4rrbrs_c0000gn/T/ipykernel_6815/2744043377.py:3: RuntimeWarning: overflow encountered in exp\n",
      "  log_loss = np.log(1 + np.exp(-y * z))\n",
      "/var/folders/90/9f8yk06x5m5cqysc4rrbrs_c0000gn/T/ipykernel_6815/2744043377.py:9: RuntimeWarning: overflow encountered in exp\n",
      "  sigmoid = 1 / (1 + np.exp(-z))\n"
     ]
    }
   ],
   "source": [
    "def gradient_w_Nesterov(X, y, lr=0.01, beta=0.3, max_iter=2000, tol=1e-6):\n",
    "    w = np.zeros(X.shape[1])  # Initialize weights\n",
    "    v = np.zeros(X.shape[1])  # Initialize velocity for momentum\n",
    "    losses = []\n",
    "\n",
    "    for i in range(max_iter):\n",
    "        loss = logistic_loss(w, X, y)\n",
    "        losses.append(loss)\n",
    "        yt = w + beta * (w - v)\n",
    "        gradient = logistic_loss_gradient(yt, X, y)\n",
    "\n",
    "        v = w\n",
    "        w = yt - lr * gradient  # Update velocity\n",
    "\n",
    "\n",
    "        if np.linalg.norm(gradient) < tol:\n",
    "            break\n",
    "\n",
    "    return w, losses\n",
    "\n",
    "w, losses = gradient_w_Nesterov(train_data, train_labels)"
   ]
  },
  {
   "cell_type": "code",
   "execution_count": 11,
   "metadata": {},
   "outputs": [
    {
     "data": {
      "image/png": "[encoded data removed]",
      "text/plain": [
       "<Figure size 640x480 with 1 Axes>"
      ]
     },
     "metadata": {},
     "output_type": "display_data"
    }
   ],
   "source": [
    "plt.plot(losses)\n",
    "plt.title('gradient_w_Nesterov')\n",
    "plt.xlabel('Epoch')\n",
    "plt.ylabel('Loss')\n",
    "\n",
    "\n",
    "plt.show()\n",
    "plt.close()"
   ]
  }
 ],
 "metadata": {
  "kernelspec": {
   "display_name": "base",
   "language": "python",
   "name": "python3"
  },
  "language_info": {
   "codemirror_mode": {
    "name": "ipython",
    "version": 3
   },
   "file_extension": ".py",
   "mimetype": "text/x-python",
   "name": "python",
   "nbconvert_exporter": "python",
   "pygments_lexer": "ipython3",
   "version": "3.11.3"
  }
 },
 "nbformat": 4,
 "nbformat_minor": 2
}
